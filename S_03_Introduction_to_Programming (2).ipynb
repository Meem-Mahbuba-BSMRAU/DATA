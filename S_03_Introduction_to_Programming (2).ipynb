{
  "nbformat": 4,
  "nbformat_minor": 0,
  "metadata": {
    "colab": {
      "provenance": [],
      "collapsed_sections": [
        "JBnmHJZFy-bF",
        "LKD4Rn1X6AMC",
        "tFdEqlMV6keT",
        "nVaztyeCbRFf"
      ]
    },
    "kernelspec": {
      "name": "python3",
      "display_name": "Python 3"
    },
    "language_info": {
      "name": "python"
    }
  },
  "cells": [
    {
      "cell_type": "markdown",
      "source": [
        "# Arithmetic and Variables"
      ],
      "metadata": {
        "id": "JBnmHJZFy-bF"
      }
    },
    {
      "cell_type": "markdown",
      "source": [
        "## Printing"
      ],
      "metadata": {
        "id": "u89HsUsozB70"
      }
    },
    {
      "cell_type": "code",
      "execution_count": null,
      "metadata": {
        "colab": {
          "base_uri": "https://localhost:8080/"
        },
        "id": "4JZDx5JOykI3",
        "outputId": "1f54eb77-36a8-4ed1-87b4-3b2d71b40a26"
      },
      "outputs": [
        {
          "output_type": "stream",
          "name": "stdout",
          "text": [
            "Welcome to Data Analysis with Python Training\n"
          ]
        }
      ],
      "source": [
        "print(\"Welcome to Data Analysis with Python Training\")"
      ]
    },
    {
      "cell_type": "markdown",
      "source": [
        "## Arithmetic"
      ],
      "metadata": {
        "id": "Symufm2fzRZY"
      }
    },
    {
      "cell_type": "code",
      "source": [
        "print(5+2)"
      ],
      "metadata": {
        "colab": {
          "base_uri": "https://localhost:8080/"
        },
        "id": "61xl9tNgzICw",
        "outputId": "461a1c91-2423-4982-aad2-a13458a4d9eb"
      },
      "execution_count": null,
      "outputs": [
        {
          "output_type": "stream",
          "name": "stdout",
          "text": [
            "7\n"
          ]
        }
      ]
    },
    {
      "cell_type": "code",
      "source": [
        "print(5-2)"
      ],
      "metadata": {
        "colab": {
          "base_uri": "https://localhost:8080/"
        },
        "id": "qcfBwdIbzWUp",
        "outputId": "ff0fc153-4385-48eb-ea33-e030b5765753"
      },
      "execution_count": null,
      "outputs": [
        {
          "output_type": "stream",
          "name": "stdout",
          "text": [
            "3\n"
          ]
        }
      ]
    },
    {
      "cell_type": "markdown",
      "source": [
        "We can not only add or subtract but can do many other arithmetic operations:\n",
        "\n",
        "<table>\n",
        "<tr>\n",
        "  <td>Operation</td>\n",
        "  <td>Symbol</td>\n",
        "  <td>Example</td>\n",
        "</tr>\n",
        "\n",
        "<tr>\n",
        "  <td>Addition</td>\n",
        "  <td>+</td>\n",
        "  <td>1+2=3</td>\n",
        "</tr>\n",
        "<tr>\n",
        "  <td>Subtract</td>\n",
        "  <td>-</td>\n",
        "  <td>2-1=1</td>\n",
        "</tr>\n",
        "<tr>\n",
        "  <td>Multiplication</td>\n",
        "  <td>*</td>\n",
        "  <td>1*2=4</td>\n",
        "</tr>\n",
        "<tr>\n",
        "  <td>Division</td>\n",
        "  <td>/</td>\n",
        "  <td>10/2=5</td>\n",
        "</tr>\n",
        "<tr>\n",
        "  <td>Exponent</td>\n",
        "  <td>**</td>\n",
        "  <td>3**2=9</td>\n",
        "</tr>\n",
        "</table>"
      ],
      "metadata": {
        "id": "hP8zaFE-zbom"
      }
    },
    {
      "cell_type": "markdown",
      "source": [
        "Python follows the <b>PEMDAS</b> rule. <br />\n",
        "\n",
        "P - Parenthesis <br />\n",
        "E - Exponent <br />\n",
        "M - Multiplication <br />\n",
        "D - Division <br />\n",
        "A - Addition <br />\n",
        "S - Subtract <br />"
      ],
      "metadata": {
        "id": "zPWwEkmM1OKk"
      }
    },
    {
      "cell_type": "code",
      "source": [
        "print(((1 + 3) * (9 - 2) / 2) ** 2)"
      ],
      "metadata": {
        "colab": {
          "base_uri": "https://localhost:8080/"
        },
        "id": "dihDs-pozaKI",
        "outputId": "6fb2cde4-76f9-4502-9887-eeb185239ec0"
      },
      "execution_count": null,
      "outputs": [
        {
          "output_type": "stream",
          "name": "stdout",
          "text": [
            "196.0\n"
          ]
        }
      ]
    },
    {
      "cell_type": "markdown",
      "source": [
        "## Comments\n",
        "\n",
        "Comments are used to annotate the code."
      ],
      "metadata": {
        "id": "zeYze-qn1tjh"
      }
    },
    {
      "cell_type": "code",
      "source": [
        "# Multiply 3 by 2\n",
        "\n",
        "print(3*2)"
      ],
      "metadata": {
        "colab": {
          "base_uri": "https://localhost:8080/"
        },
        "id": "eHHCEPgL1nLJ",
        "outputId": "90cbe816-602a-451e-c9c3-a2b6cd8ad2ee"
      },
      "execution_count": null,
      "outputs": [
        {
          "output_type": "stream",
          "name": "stdout",
          "text": [
            "6\n"
          ]
        }
      ]
    },
    {
      "cell_type": "markdown",
      "source": [
        "## Variables"
      ],
      "metadata": {
        "id": "1uJaChzQ2aHo"
      }
    },
    {
      "cell_type": "code",
      "source": [
        "num1 = 5\n",
        "num2 = 2\n",
        "\n",
        "print(num1+num2)"
      ],
      "metadata": {
        "colab": {
          "base_uri": "https://localhost:8080/"
        },
        "id": "Dsjp6ZQM2JBY",
        "outputId": "6600bdcc-a48d-4dd3-da8f-5d18d1c82117"
      },
      "execution_count": null,
      "outputs": [
        {
          "output_type": "stream",
          "name": "stdout",
          "text": [
            "7\n"
          ]
        }
      ]
    },
    {
      "cell_type": "markdown",
      "source": [
        "### Manipulating Variables"
      ],
      "metadata": {
        "id": "zFJY43Zf2zbu"
      }
    },
    {
      "cell_type": "code",
      "source": [
        "num1 = 10\n",
        "print(num1)\n",
        "\n",
        "num1 = 5\n",
        "print(num1)\n",
        "\n",
        "num1 = num1+50\n",
        "print(num1)"
      ],
      "metadata": {
        "colab": {
          "base_uri": "https://localhost:8080/"
        },
        "id": "JA2x99rJ2sgP",
        "outputId": "72914db3-5181-4eee-c904-b3dd5834bf18"
      },
      "execution_count": null,
      "outputs": [
        {
          "output_type": "stream",
          "name": "stdout",
          "text": [
            "10\n",
            "5\n",
            "55\n"
          ]
        }
      ]
    },
    {
      "cell_type": "code",
      "source": [
        "print(num1)\n",
        "print(num2)"
      ],
      "metadata": {
        "colab": {
          "base_uri": "https://localhost:8080/"
        },
        "id": "Zkh3vDGT2-_s",
        "outputId": "1953b9b3-8270-47fd-9e34-a7de54f9fb47"
      },
      "execution_count": null,
      "outputs": [
        {
          "output_type": "stream",
          "name": "stdout",
          "text": [
            "55\n",
            "2\n"
          ]
        }
      ]
    },
    {
      "cell_type": "markdown",
      "source": [
        "### Using Multiple Variables"
      ],
      "metadata": {
        "id": "h2ySm_Nj5Jyi"
      }
    },
    {
      "cell_type": "code",
      "source": [
        "# Create variables\n",
        "num_years = 4\n",
        "days_per_year = 365\n",
        "hours_per_day = 24\n",
        "mins_per_hour = 60\n",
        "secs_per_min = 60\n",
        "\n",
        "# Calculate number of seconds in four years\n",
        "total_secs = secs_per_min * mins_per_hour * hours_per_day * days_per_year * num_years\n",
        "print(total_secs)"
      ],
      "metadata": {
        "colab": {
          "base_uri": "https://localhost:8080/"
        },
        "id": "Bt_1kQen42Tk",
        "outputId": "fb546704-2f53-428a-d530-e3c8c6220b94"
      },
      "execution_count": null,
      "outputs": [
        {
          "output_type": "stream",
          "name": "stdout",
          "text": [
            "126144000\n"
          ]
        }
      ]
    },
    {
      "cell_type": "markdown",
      "source": [
        "Include leap year"
      ],
      "metadata": {
        "id": "2WfC1F6t5qq8"
      }
    },
    {
      "cell_type": "code",
      "source": [
        "# Update to include leap years\n",
        "days_per_year = 365.25\n",
        "\n",
        "# Calculate number of seconds in four years\n",
        "total_secs = secs_per_min * mins_per_hour * hours_per_day * days_per_year * num_years\n",
        "print(total_secs)"
      ],
      "metadata": {
        "colab": {
          "base_uri": "https://localhost:8080/"
        },
        "id": "s1ZkSqDG5Nw5",
        "outputId": "f717ac37-1ce7-42f7-8ec5-58c14af788c8"
      },
      "execution_count": null,
      "outputs": [
        {
          "output_type": "stream",
          "name": "stdout",
          "text": [
            "126230400.0\n"
          ]
        }
      ]
    },
    {
      "cell_type": "markdown",
      "source": [
        "## Debugging"
      ],
      "metadata": {
        "id": "c_tjlaCT51Da"
      }
    },
    {
      "cell_type": "code",
      "source": [
        "print(hours_per_dy)"
      ],
      "metadata": {
        "colab": {
          "base_uri": "https://localhost:8080/",
          "height": 144
        },
        "id": "dQmjyh1g5uUb",
        "outputId": "0ba6422f-6754-4074-86f0-356b395b26f7"
      },
      "execution_count": null,
      "outputs": [
        {
          "output_type": "error",
          "ename": "NameError",
          "evalue": "name 'hours_per_dy' is not defined",
          "traceback": [
            "\u001b[0;31m---------------------------------------------------------------------------\u001b[0m",
            "\u001b[0;31mNameError\u001b[0m                                 Traceback (most recent call last)",
            "\u001b[0;32m<ipython-input-11-9c43394606fc>\u001b[0m in \u001b[0;36m<cell line: 1>\u001b[0;34m()\u001b[0m\n\u001b[0;32m----> 1\u001b[0;31m \u001b[0mprint\u001b[0m\u001b[0;34m(\u001b[0m\u001b[0mhours_per_dy\u001b[0m\u001b[0;34m)\u001b[0m\u001b[0;34m\u001b[0m\u001b[0;34m\u001b[0m\u001b[0m\n\u001b[0m",
            "\u001b[0;31mNameError\u001b[0m: name 'hours_per_dy' is not defined"
          ]
        }
      ]
    },
    {
      "cell_type": "markdown",
      "source": [
        "# Exercise: Arithmetic and Variables"
      ],
      "metadata": {
        "id": "LKD4Rn1X6AMC"
      }
    },
    {
      "cell_type": "markdown",
      "source": [
        "## Question-1: Write a code to print out your name"
      ],
      "metadata": {
        "id": "tFdEqlMV6keT"
      }
    },
    {
      "cell_type": "code",
      "source": [
        "print(\"Md. Maruf Al Hossain Prince\")"
      ],
      "metadata": {
        "colab": {
          "base_uri": "https://localhost:8080/"
        },
        "id": "Zkwj69bn53EE",
        "outputId": "9a30efd6-6fa2-47dc-ba3b-d443ce97804f"
      },
      "execution_count": null,
      "outputs": [
        {
          "output_type": "stream",
          "name": "stdout",
          "text": [
            "Md. Maruf Al Hossain Prince\n"
          ]
        }
      ]
    },
    {
      "cell_type": "markdown",
      "source": [
        "## Question-2: Use comment in your code to make Python ignore it"
      ],
      "metadata": {
        "id": "Pl6JY3886wri"
      }
    },
    {
      "cell_type": "code",
      "source": [
        "# Print your name\n",
        "\n",
        "name = \"Md. Maruf Al Hossain Prince\"\n",
        "print(name)"
      ],
      "metadata": {
        "colab": {
          "base_uri": "https://localhost:8080/"
        },
        "id": "IMTXLM2D7o94",
        "outputId": "70beefe3-7e07-486c-8579-8b85978e32f1"
      },
      "execution_count": null,
      "outputs": [
        {
          "output_type": "stream",
          "name": "stdout",
          "text": [
            "Md. Maruf Al Hossain Prince\n"
          ]
        }
      ]
    },
    {
      "cell_type": "code",
      "source": [],
      "metadata": {
        "id": "F6erGXPB754l"
      },
      "execution_count": null,
      "outputs": []
    },
    {
      "cell_type": "markdown",
      "source": [
        "## Question-3: Declare a variable named accidents_per_hour and set it to 15. Now calculate accidents per day and print it."
      ],
      "metadata": {
        "id": "anKYirAn8Cem"
      }
    },
    {
      "cell_type": "code",
      "source": [
        "accidents_per_hour = 15\n",
        "\n",
        "accidents_per_day = accidents_per_hour * 24\n",
        "\n",
        "print(accidents_per_day)"
      ],
      "metadata": {
        "colab": {
          "base_uri": "https://localhost:8080/"
        },
        "id": "czuS2RIH8xDj",
        "outputId": "00f549b7-5442-4345-8914-2120128c3692"
      },
      "execution_count": null,
      "outputs": [
        {
          "output_type": "stream",
          "name": "stdout",
          "text": [
            "360\n"
          ]
        }
      ]
    },
    {
      "cell_type": "code",
      "source": [],
      "metadata": {
        "id": "7i7XcJYv868O"
      },
      "execution_count": null,
      "outputs": []
    },
    {
      "cell_type": "markdown",
      "source": [
        "# Functions"
      ],
      "metadata": {
        "id": "1ikQ1ajQ9gOF"
      }
    },
    {
      "cell_type": "markdown",
      "source": [
        "Functions are used to create code blocks. These code blocks can be repeatedly used."
      ],
      "metadata": {
        "id": "lq_GufAAAxFR"
      }
    },
    {
      "cell_type": "markdown",
      "source": [
        "## Function Defining"
      ],
      "metadata": {
        "id": "ikGVFuhdCjf8"
      }
    },
    {
      "cell_type": "code",
      "source": [
        "def add(n1, n2):\n",
        "  total = n1 + n2\n",
        "  return total"
      ],
      "metadata": {
        "id": "nen-_1sT9iVM"
      },
      "execution_count": null,
      "outputs": []
    },
    {
      "cell_type": "markdown",
      "source": [
        "## Function Calling"
      ],
      "metadata": {
        "id": "r9LHiCIBCmgw"
      }
    },
    {
      "cell_type": "code",
      "source": [
        "num1 = 5\n",
        "num2 = 10\n",
        "\n",
        "sum = add(num1, num2)\n",
        "print(sum)\n",
        "\n",
        "\n",
        "sum = add(3, 2)\n",
        "print(sum)\n",
        "\n",
        "print(add(5, 5))"
      ],
      "metadata": {
        "colab": {
          "base_uri": "https://localhost:8080/"
        },
        "id": "N4nuIYNbBqi3",
        "outputId": "b3cec891-8edc-42d9-b10e-ab6c4d6c948d"
      },
      "execution_count": null,
      "outputs": [
        {
          "output_type": "stream",
          "name": "stdout",
          "text": [
            "15\n",
            "5\n",
            "10\n"
          ]
        }
      ]
    },
    {
      "cell_type": "markdown",
      "source": [
        "## A more complex example\n",
        "\n",
        "\n",
        "Say you are helping your trainer to calculate his weekly paycheck after taxes.\n",
        "\n",
        "12% of his salary is taken for taxes, and he only takes home 88%, and\n",
        "he is paid hourly, at a rate of $20/hour.\n",
        "The function below calculates the paycheck based on the number of hours worked. The function is more complicated than with the first example, because the function has more lines of code and comments.\n",
        "\n",
        "num_hours = to specify the value for a new variable pay_pretax.\n",
        "pay_pretax = to specify the value for a new variable pay_aftertax.\n",
        "Return pay_aftertax variable."
      ],
      "metadata": {
        "id": "BJVedscFGG3J"
      }
    },
    {
      "cell_type": "code",
      "source": [
        "def get_pay(num_hours):\n",
        "    # Pre-tax pay, based on receiving BDT 2000/hour\n",
        "    pay_pretax = num_hours * 2000\n",
        "    # After-tax pay, based on being in 12% tax bracket\n",
        "    pay_aftertax = pay_pretax * (1 - .12)\n",
        "    return pay_aftertax"
      ],
      "metadata": {
        "id": "peyAcxnjBzIN"
      },
      "execution_count": null,
      "outputs": []
    },
    {
      "cell_type": "code",
      "source": [
        "payment = get_pay(80)\n",
        "\n",
        "print(payment)"
      ],
      "metadata": {
        "colab": {
          "base_uri": "https://localhost:8080/"
        },
        "id": "QiBbtIIwMoE-",
        "outputId": "df7a1953-1fd6-4457-b108-ed050b3ad5d1"
      },
      "execution_count": null,
      "outputs": [
        {
          "output_type": "stream",
          "name": "stdout",
          "text": [
            "140800.0\n"
          ]
        }
      ]
    },
    {
      "cell_type": "code",
      "source": [
        "print(f\"You will get {payment} BDT\")"
      ],
      "metadata": {
        "colab": {
          "base_uri": "https://localhost:8080/"
        },
        "id": "GAhqcwRyNUZE",
        "outputId": "04c4e13c-0a59-40ea-eb88-3a7cd0a258ef"
      },
      "execution_count": null,
      "outputs": [
        {
          "output_type": "stream",
          "name": "stdout",
          "text": [
            "You will get 140800.0 BDT\n"
          ]
        }
      ]
    },
    {
      "cell_type": "markdown",
      "source": [
        "## Scope"
      ],
      "metadata": {
        "id": "_s6rbjCNO0rn"
      }
    },
    {
      "cell_type": "code",
      "source": [
        "print(pay_pretax)"
      ],
      "metadata": {
        "colab": {
          "base_uri": "https://localhost:8080/",
          "height": 144
        },
        "id": "2mzfrzPNNsrf",
        "outputId": "b945f098-5000-4e96-af6f-fa3c3929af01"
      },
      "execution_count": null,
      "outputs": [
        {
          "output_type": "error",
          "ename": "NameError",
          "evalue": "name 'pay_pretax' is not defined",
          "traceback": [
            "\u001b[0;31m---------------------------------------------------------------------------\u001b[0m",
            "\u001b[0;31mNameError\u001b[0m                                 Traceback (most recent call last)",
            "\u001b[0;32m<ipython-input-34-fb56fb3cde72>\u001b[0m in \u001b[0;36m<cell line: 1>\u001b[0;34m()\u001b[0m\n\u001b[0;32m----> 1\u001b[0;31m \u001b[0mprint\u001b[0m\u001b[0;34m(\u001b[0m\u001b[0mpay_pretax\u001b[0m\u001b[0;34m)\u001b[0m\u001b[0;34m\u001b[0m\u001b[0;34m\u001b[0m\u001b[0m\n\u001b[0m",
            "\u001b[0;31mNameError\u001b[0m: name 'pay_pretax' is not defined"
          ]
        }
      ]
    },
    {
      "cell_type": "markdown",
      "source": [
        "## Functions with Multiple Arguement"
      ],
      "metadata": {
        "id": "FrSDNjfgPCaS"
      }
    },
    {
      "cell_type": "code",
      "source": [
        "def get_pay_with_more_inputs(num_hours, hourly_wage, tax_bracket):\n",
        "    # Pre-tax pay\n",
        "    pay_pretax = num_hours * hourly_wage\n",
        "    # After-tax pay\n",
        "    pay_aftertax = pay_pretax * (1 - (tax_bracket/100))\n",
        "    return pay_aftertax"
      ],
      "metadata": {
        "id": "14C98oGaOwaP"
      },
      "execution_count": null,
      "outputs": []
    },
    {
      "cell_type": "code",
      "source": [
        "bill = get_pay_with_more_inputs(80, 2000, 12)\n",
        "\n",
        "print(bill)"
      ],
      "metadata": {
        "colab": {
          "base_uri": "https://localhost:8080/"
        },
        "id": "OMhlarANPzxH",
        "outputId": "2438f8c7-e94d-4bb6-f484-f61dba0c1192"
      },
      "execution_count": null,
      "outputs": [
        {
          "output_type": "stream",
          "name": "stdout",
          "text": [
            "140800.0\n"
          ]
        }
      ]
    },
    {
      "cell_type": "markdown",
      "source": [
        "## Functions with no arguement"
      ],
      "metadata": {
        "id": "0KMyfNFJQOZf"
      }
    },
    {
      "cell_type": "code",
      "source": [
        "def print_msg():\n",
        "  print(\"Welcome to Data Analysis with Python Training\")\n",
        "  print(\"A project of ICT Ministry\")"
      ],
      "metadata": {
        "id": "2xwKZavTP6Ko"
      },
      "execution_count": null,
      "outputs": []
    },
    {
      "cell_type": "code",
      "source": [
        "print_msg()"
      ],
      "metadata": {
        "colab": {
          "base_uri": "https://localhost:8080/"
        },
        "id": "olwyp-U8QVGY",
        "outputId": "83efbd24-5749-4a7f-bc50-f5c4d3dff426"
      },
      "execution_count": null,
      "outputs": [
        {
          "output_type": "stream",
          "name": "stdout",
          "text": [
            "Welcome to Data Analysis with Python Training\n",
            "A project of ICT Ministry\n"
          ]
        }
      ]
    },
    {
      "cell_type": "markdown",
      "source": [
        "# Exercise: Functions"
      ],
      "metadata": {
        "id": "C_LGEvtkY64b"
      }
    },
    {
      "cell_type": "markdown",
      "source": [
        "##Question - 1\n",
        "\n",
        "create a function `get_expected_cost()` that has two arguments:\n",
        "- `beds` - number of bedrooms\n",
        "- `baths` - number of bathrooms\n",
        "\n",
        "It should return the expected cost of a house with that number of bedrooms and bathrooms.  Assume that:\n",
        "- the expected cost for a house with 0 bedrooms and 0 bathrooms is `80000`.  \n",
        "- each bedroom adds `30000` to the expected cost\n",
        "- each bathroom adds `10000` to the expected cost.\n",
        "\n",
        "For instance,\n",
        "- a house with 1 bedroom and 1 bathroom has an expected cost of `120000`, and\n",
        "- a house with 2 bedrooms and 1 bathroom has an expected cost of `150000`."
      ],
      "metadata": {
        "id": "Xnr_nFRiZb5q"
      }
    },
    {
      "cell_type": "code",
      "source": [
        "def get_expected_cost(beds, baths):\n",
        "  cost = 80000 + (beds * 30000) + (baths * 10000)\n",
        "  return cost"
      ],
      "metadata": {
        "id": "chpS-p_rQdrg"
      },
      "execution_count": null,
      "outputs": []
    },
    {
      "cell_type": "markdown",
      "source": [
        "## Question 2\n",
        "\n",
        "You are thinking about buying a home and want to get an idea of how much you will spend, based on the number of bedrooms and bathrooms.  You are trying to decide between four different options:\n",
        "- Option 1: house with two bedrooms and three bathrooms\n",
        "- Option 2: house with three bedrooms and two bathrooms\n",
        "- Option 3: house with three bedrooms and three bathrooms\n",
        "- Option 4: house with three bedrooms and four bathrooms\n",
        "\n",
        "Use the `get_expected_cost()` function you defined in question 1 to set `option_1`, `option_2`, `option_3`, and `option_4` to the expected cost of each option."
      ],
      "metadata": {
        "id": "nVaztyeCbRFf"
      }
    },
    {
      "cell_type": "code",
      "source": [
        "option_one = get_expected_cost(2, 3)\n",
        "option_two = get_expected_cost(3, 2)\n",
        "option_three = get_expected_cost(3, 3)\n",
        "option_four = get_expected_cost(3, 4)\n",
        "\n",
        "print(option_one)\n",
        "print(option_two)\n",
        "print(option_three)\n",
        "print(option_four)\n"
      ],
      "metadata": {
        "colab": {
          "base_uri": "https://localhost:8080/"
        },
        "id": "5Ax99nvlbBeM",
        "outputId": "2f411f4d-f0a3-4171-8e65-5ff067dd7d46"
      },
      "execution_count": null,
      "outputs": [
        {
          "output_type": "stream",
          "name": "stdout",
          "text": [
            "170000\n",
            "190000\n",
            "200000\n",
            "210000\n"
          ]
        }
      ]
    },
    {
      "cell_type": "markdown",
      "source": [
        "## Question 3\n",
        "\n",
        "You're a home decorator, and you'd like to use Python to streamline some of your work.  Specifically, you're creating a tool that **you intend to use to calculate the cost of painting a room**.\n",
        "\n",
        "As a first step, define a function `get_cost()` that takes as input:\n",
        "- `sqft_walls` = total square feet of walls to be painted\n",
        "- `sqft_ceiling` = square feet of ceiling to be painted\n",
        "- `sqft_per_gallon` = number of square feet that you can cover with one gallon of paint\n",
        "- `cost_per_gallon` = cost (in taka) of one gallon of paint\n",
        "\n",
        "It should return the cost (in taka) of putting one coat of paint on all walls and the ceiling.  Assume you can buy the exact amount of paint that you need, so you can buy partial gallons (e.g., if you need 7.523 gallons, you can buy that exact amount, instead of needing to buy 8 gallons and waste some paint).  Do not round your answer."
      ],
      "metadata": {
        "id": "rBvoW7mNcOjy"
      }
    },
    {
      "cell_type": "code",
      "source": [
        "def get_cost(sqft_walls, sqft_ceiling, sqft_per_gallon, cost_per_gallon):\n",
        "    cost =\n",
        "    return cost"
      ],
      "metadata": {
        "colab": {
          "base_uri": "https://localhost:8080/",
          "height": 108
        },
        "id": "yPIlqyijcYcl",
        "outputId": "9f6fc34b-7228-4c10-c582-a82433763e66"
      },
      "execution_count": null,
      "outputs": [
        {
          "output_type": "error",
          "ename": "SyntaxError",
          "evalue": "invalid syntax (<ipython-input-45-faf75a586ae2>, line 2)",
          "traceback": [
            "\u001b[0;36m  File \u001b[0;32m\"<ipython-input-45-faf75a586ae2>\"\u001b[0;36m, line \u001b[0;32m2\u001b[0m\n\u001b[0;31m    cost =\u001b[0m\n\u001b[0m           ^\u001b[0m\n\u001b[0;31mSyntaxError\u001b[0m\u001b[0;31m:\u001b[0m invalid syntax\n"
          ]
        }
      ]
    },
    {
      "cell_type": "markdown",
      "source": [
        "## Question 4\n",
        "\n",
        "Use the `get_cost()` function you defined in Question 3 to calculate the cost of applying one coat of paint to a room with:\n",
        "- 432 square feet of walls, and\n",
        "- 144 square feet of ceiling.\n",
        "\n",
        "Assume that one gallon of paint covers 400 square feet and costs 15 tk.  As in Question 3, assume you can buy partial gallons of paint.  Do not round your answer."
      ],
      "metadata": {
        "id": "VtpEROdLeaTT"
      }
    },
    {
      "cell_type": "code",
      "source": [
        "project_cost = get_cost(432, 144, 400, 15)\n",
        "\n",
        "print(project_cost)"
      ],
      "metadata": {
        "colab": {
          "base_uri": "https://localhost:8080/",
          "height": 180
        },
        "id": "XwPIzTVdecR3",
        "outputId": "60a1eb3c-c61b-4676-8ea2-22e487b5924e"
      },
      "execution_count": null,
      "outputs": [
        {
          "output_type": "error",
          "ename": "NameError",
          "evalue": "name 'get_cost' is not defined",
          "traceback": [
            "\u001b[0;31m---------------------------------------------------------------------------\u001b[0m",
            "\u001b[0;31mNameError\u001b[0m                                 Traceback (most recent call last)",
            "\u001b[0;32m<ipython-input-44-4ba59d949090>\u001b[0m in \u001b[0;36m<cell line: 1>\u001b[0;34m()\u001b[0m\n\u001b[0;32m----> 1\u001b[0;31m \u001b[0mproject_cost\u001b[0m \u001b[0;34m=\u001b[0m \u001b[0mget_cost\u001b[0m\u001b[0;34m(\u001b[0m\u001b[0;36m432\u001b[0m\u001b[0;34m,\u001b[0m \u001b[0;36m144\u001b[0m\u001b[0;34m,\u001b[0m \u001b[0;36m400\u001b[0m\u001b[0;34m,\u001b[0m \u001b[0;36m15\u001b[0m\u001b[0;34m)\u001b[0m\u001b[0;34m\u001b[0m\u001b[0;34m\u001b[0m\u001b[0m\n\u001b[0m\u001b[1;32m      2\u001b[0m \u001b[0;34m\u001b[0m\u001b[0m\n\u001b[1;32m      3\u001b[0m \u001b[0mprint\u001b[0m\u001b[0;34m(\u001b[0m\u001b[0mproject_cost\u001b[0m\u001b[0;34m)\u001b[0m\u001b[0;34m\u001b[0m\u001b[0;34m\u001b[0m\u001b[0m\n",
            "\u001b[0;31mNameError\u001b[0m: name 'get_cost' is not defined"
          ]
        }
      ]
    },
    {
      "cell_type": "markdown",
      "source": [
        "## Question 5\n",
        "\n",
        "Now say you can no longer buy fractions of a gallon.  (For instance, if you need 4.3 gallons to do a project, then you have to buy 5 gallons of paint.)\n",
        "\n",
        "With this new scenario, you will create a new function `get_actual_cost` that uses the same inputs and calculates the cost of your project.\n",
        "\n",
        "One function that you'll need to use to do this is `math.ceil()`.  We demonstrate usage of this function in the code cell below.  It takes as a number as input and rounds the number up to the nearest integer.  \n",
        "\n",
        "Run the next code cell to test this function for yourself.  Make sure `math.ceil()` returns the number you expect."
      ],
      "metadata": {
        "id": "Gyw18QtUfr-G"
      }
    },
    {
      "cell_type": "code",
      "source": [
        "import math\n",
        "\n",
        "\n",
        "print(math.ceil(4.2))\n",
        "print(math.floor(4.7))"
      ],
      "metadata": {
        "colab": {
          "base_uri": "https://localhost:8080/"
        },
        "id": "T4cHjT95epVB",
        "outputId": "2cece58d-62d9-42a8-c458-afa3d45eb2b9"
      },
      "execution_count": null,
      "outputs": [
        {
          "output_type": "stream",
          "name": "stdout",
          "text": [
            "5\n",
            "4\n"
          ]
        }
      ]
    },
    {
      "cell_type": "markdown",
      "source": [
        "# Data types"
      ],
      "metadata": {
        "id": "knBklusGgvsJ"
      }
    },
    {
      "cell_type": "markdown",
      "source": [
        "## Integers\n",
        "\n",
        "Integers are numbers without any fractional part and can be positive (1, 2, 3, ...), negative (-1, -2, -3, ...), or zero (0)."
      ],
      "metadata": {
        "id": "yiuyap-FkiTY"
      }
    },
    {
      "cell_type": "code",
      "source": [
        "x = 5\n",
        "print(x)\n",
        "print(type(x))"
      ],
      "metadata": {
        "colab": {
          "base_uri": "https://localhost:8080/"
        },
        "id": "PTpvLUYlfNL6",
        "outputId": "cb714665-8eb3-4056-b558-6b668352d67e"
      },
      "execution_count": null,
      "outputs": [
        {
          "output_type": "stream",
          "name": "stdout",
          "text": [
            "5\n",
            "<class 'int'>\n"
          ]
        }
      ]
    },
    {
      "cell_type": "markdown",
      "source": [
        "## Float\n",
        "Floats are numbers with fractional parts. They can have many numbers after decimal."
      ],
      "metadata": {
        "id": "EiIV0wz6k3La"
      }
    },
    {
      "cell_type": "code",
      "source": [
        "nearly_pi = 3.141592653589793238462643383279502884197169399375105820974944\n",
        "print(nearly_pi)\n",
        "print(type(nearly_pi))"
      ],
      "metadata": {
        "colab": {
          "base_uri": "https://localhost:8080/"
        },
        "id": "EC9oVdEJkwgx",
        "outputId": "7858ec38-bcea-4b74-d465-ed6a15d34196"
      },
      "execution_count": null,
      "outputs": [
        {
          "output_type": "stream",
          "name": "stdout",
          "text": [
            "3.141592653589793\n",
            "<class 'float'>\n"
          ]
        }
      ]
    },
    {
      "cell_type": "code",
      "source": [
        "almost_pi = 22/7\n",
        "print(almost_pi)\n",
        "print(type(almost_pi))"
      ],
      "metadata": {
        "colab": {
          "base_uri": "https://localhost:8080/"
        },
        "id": "PW-kAjekk7OJ",
        "outputId": "85a01ee1-1852-4147-fd3a-87c7531eb709"
      },
      "execution_count": null,
      "outputs": [
        {
          "output_type": "stream",
          "name": "stdout",
          "text": [
            "3.142857142857143\n",
            "<class 'float'>\n"
          ]
        }
      ]
    },
    {
      "cell_type": "code",
      "source": [
        "# Round to 5 decimal places\n",
        "rounded_pi = round(almost_pi, 5)\n",
        "print(rounded_pi)\n",
        "print(type(rounded_pi))"
      ],
      "metadata": {
        "colab": {
          "base_uri": "https://localhost:8080/"
        },
        "id": "ytEc0jWclV9s",
        "outputId": "220754f4-7214-48f0-856e-c4690ff7a38f"
      },
      "execution_count": null,
      "outputs": [
        {
          "output_type": "stream",
          "name": "stdout",
          "text": [
            "3.14286\n",
            "<class 'float'>\n"
          ]
        }
      ]
    },
    {
      "cell_type": "markdown",
      "source": [
        "## Boolean\n",
        "Booleans represent one of two values: `True` or `False`."
      ],
      "metadata": {
        "id": "jb25lwh1llqi"
      }
    },
    {
      "cell_type": "code",
      "source": [
        "z_one = True\n",
        "print(z_one)\n",
        "print(type(z_one))\n",
        "\n",
        "z_two = False\n",
        "print(z_two)\n",
        "print(type(z_two))"
      ],
      "metadata": {
        "colab": {
          "base_uri": "https://localhost:8080/"
        },
        "id": "IvutPyg1lcXW",
        "outputId": "5ef91a19-c917-4fa7-89dd-3f4a8fc35ab2"
      },
      "execution_count": null,
      "outputs": [
        {
          "output_type": "stream",
          "name": "stdout",
          "text": [
            "True\n",
            "<class 'bool'>\n",
            "False\n",
            "<class 'bool'>\n"
          ]
        }
      ]
    },
    {
      "cell_type": "markdown",
      "source": [
        "Booleans are used to represent the truth value of an expression. Since `1 < 2` is a true statement, z_three takes on a value of True."
      ],
      "metadata": {
        "id": "C2jijz0Gl9PT"
      }
    },
    {
      "cell_type": "code",
      "source": [
        "z_three = (1 < 2)\n",
        "print(z_three)\n",
        "print(type(z_three))"
      ],
      "metadata": {
        "colab": {
          "base_uri": "https://localhost:8080/"
        },
        "id": "XPwGNacQlzzI",
        "outputId": "cee7912d-55b8-419c-95a7-2c62c75c898a"
      },
      "execution_count": null,
      "outputs": [
        {
          "output_type": "stream",
          "name": "stdout",
          "text": [
            "True\n",
            "<class 'bool'>\n"
          ]
        }
      ]
    },
    {
      "cell_type": "markdown",
      "source": [
        "Similarly, since `5 < 3` is a false statement, z_four takes on a value of False."
      ],
      "metadata": {
        "id": "5EfL_o58mIDd"
      }
    },
    {
      "cell_type": "code",
      "source": [
        "z_four = (5 < 3)\n",
        "print(z_four)\n",
        "print(type(z_four))"
      ],
      "metadata": {
        "colab": {
          "base_uri": "https://localhost:8080/"
        },
        "id": "CbA6m8T3mDME",
        "outputId": "b8be5414-ea39-4832-e765-ab9b1a92c03a"
      },
      "execution_count": null,
      "outputs": [
        {
          "output_type": "stream",
          "name": "stdout",
          "text": [
            "False\n",
            "<class 'bool'>\n"
          ]
        }
      ]
    },
    {
      "cell_type": "markdown",
      "source": [
        "We can switch the value of a boolean by using `not`. So, `not True` is equivalent to `False`, and `not False` becomes `True`."
      ],
      "metadata": {
        "id": "fTMq0C_CmSKo"
      }
    },
    {
      "cell_type": "code",
      "source": [
        "z_five = not z_four\n",
        "print(z_five)\n",
        "print(type(z_five))"
      ],
      "metadata": {
        "colab": {
          "base_uri": "https://localhost:8080/"
        },
        "id": "y3x0aAZkmMy7",
        "outputId": "331b3db1-8dab-47b9-dacc-9b80137590b1"
      },
      "execution_count": null,
      "outputs": [
        {
          "output_type": "stream",
          "name": "stdout",
          "text": [
            "True\n",
            "<class 'bool'>\n"
          ]
        }
      ]
    },
    {
      "cell_type": "markdown",
      "source": [
        "# Strings\n",
        "The string data type is a collection of characters (like alphabet letters, punctuation, numerical digits, or symbols) contained in quotation marks. Strings are commonly used to represent text."
      ],
      "metadata": {
        "id": "NFLGSe1imrIE"
      }
    },
    {
      "cell_type": "code",
      "source": [
        "w = \"Hello, Python!\"\n",
        "print(w)\n",
        "print(type(w))"
      ],
      "metadata": {
        "colab": {
          "base_uri": "https://localhost:8080/"
        },
        "id": "fB1U220LmlQN",
        "outputId": "0e45e222-a999-4742-c5f3-ebae29feccd2"
      },
      "execution_count": null,
      "outputs": [
        {
          "output_type": "stream",
          "name": "stdout",
          "text": [
            "Hello, Python!\n",
            "<class 'str'>\n"
          ]
        }
      ]
    },
    {
      "cell_type": "markdown",
      "source": [
        "You can get the length of a string with `len()`. \"Hello, Python!\" has length 14, because it has 14 characters, including the space, comma, and exclamation mark. Note that the quotation marks are not included when calculating the length."
      ],
      "metadata": {
        "id": "7uvZ7Bfsm2WG"
      }
    },
    {
      "cell_type": "code",
      "source": [
        "print(len(w))"
      ],
      "metadata": {
        "colab": {
          "base_uri": "https://localhost:8080/"
        },
        "id": "Y9r6H3QQmwFl",
        "outputId": "90b3cf94-020a-4564-bf35-8db6a0771de1"
      },
      "execution_count": null,
      "outputs": [
        {
          "output_type": "stream",
          "name": "stdout",
          "text": [
            "14\n"
          ]
        }
      ]
    },
    {
      "cell_type": "markdown",
      "source": [
        "If you put a number in quotation marks, it has a string data type."
      ],
      "metadata": {
        "id": "3K_PLUhRnGxM"
      }
    },
    {
      "cell_type": "code",
      "source": [
        "my_number = \"1.12321\"\n",
        "print(my_number)\n",
        "print(type(my_number))"
      ],
      "metadata": {
        "colab": {
          "base_uri": "https://localhost:8080/"
        },
        "id": "7Zj_o_ZKm8W8",
        "outputId": "9210b052-853b-4aba-9cbb-d418b10f6879"
      },
      "execution_count": null,
      "outputs": [
        {
          "output_type": "stream",
          "name": "stdout",
          "text": [
            "1.12321\n",
            "<class 'str'>\n"
          ]
        }
      ]
    },
    {
      "cell_type": "markdown",
      "source": [
        "If we have a string that is convertible to a `float`, we can use `float()`.\n",
        "\n",
        "**This won't always work!** For instance, we can convert `\"10.43430\"` and `\"3\"` to floats, but we cannot convert `\"Hello, Python!\"` to a float."
      ],
      "metadata": {
        "id": "5nHe-_WqnNWg"
      }
    },
    {
      "cell_type": "code",
      "source": [
        "also_my_number = float(my_number)\n",
        "print(also_my_number)\n",
        "print(type(also_my_number))"
      ],
      "metadata": {
        "colab": {
          "base_uri": "https://localhost:8080/"
        },
        "id": "Q_25DDOZnJdd",
        "outputId": "b94c6aff-c268-4441-d768-06ab57bb2db5"
      },
      "execution_count": null,
      "outputs": [
        {
          "output_type": "stream",
          "name": "stdout",
          "text": [
            "1.12321\n",
            "<class 'float'>\n"
          ]
        }
      ]
    },
    {
      "cell_type": "markdown",
      "source": [
        "Just like you can add two numbers (floats or integers), you can also add two strings. It results in a longer string that combines the two original strings by concatenating them."
      ],
      "metadata": {
        "id": "McAsrGO0nnrv"
      }
    },
    {
      "cell_type": "code",
      "source": [
        "new_string = \"abc\" + \"def\"\n",
        "print(new_string)\n",
        "print(type(new_string))"
      ],
      "metadata": {
        "colab": {
          "base_uri": "https://localhost:8080/"
        },
        "id": "gN7JyfKlndmC",
        "outputId": "16ffc73f-866f-4e3d-b4f5-3104b65616be"
      },
      "execution_count": null,
      "outputs": [
        {
          "output_type": "stream",
          "name": "stdout",
          "text": [
            "abcdef\n",
            "<class 'str'>\n"
          ]
        }
      ]
    },
    {
      "cell_type": "markdown",
      "source": [
        "Note that **it's not possible to do subtraction or division with two strings**. **You also can't multiply two strings**, but **you can multiply a string by an integer**. This again results in a string that's just the original string concatenated with itself a specified number of times."
      ],
      "metadata": {
        "id": "PbKDycG2nxa-"
      }
    },
    {
      "cell_type": "code",
      "source": [
        "newest_string = \"abc\" * 3\n",
        "print(newest_string)\n",
        "print(type(newest_string))"
      ],
      "metadata": {
        "colab": {
          "base_uri": "https://localhost:8080/"
        },
        "id": "_HuuomA5nqeo",
        "outputId": "c0a49dd4-e87a-4a32-89f1-5533ed540c85"
      },
      "execution_count": null,
      "outputs": [
        {
          "output_type": "stream",
          "name": "stdout",
          "text": [
            "abcabcabc\n",
            "<class 'str'>\n"
          ]
        }
      ]
    },
    {
      "cell_type": "markdown",
      "source": [
        "Note that you cannot multiply a string by a float! Trying to do so will return an error."
      ],
      "metadata": {
        "id": "1yOkGTzkoDhm"
      }
    },
    {
      "cell_type": "code",
      "source": [
        "will_not_work = \"abc\" * 3.0"
      ],
      "metadata": {
        "colab": {
          "base_uri": "https://localhost:8080/",
          "height": 144
        },
        "id": "D87-BT1vn--4",
        "outputId": "a1d4a305-4b24-4314-b0e4-e183ee6b9b39"
      },
      "execution_count": null,
      "outputs": [
        {
          "output_type": "error",
          "ename": "TypeError",
          "evalue": "can't multiply sequence by non-int of type 'float'",
          "traceback": [
            "\u001b[0;31m---------------------------------------------------------------------------\u001b[0m",
            "\u001b[0;31mTypeError\u001b[0m                                 Traceback (most recent call last)",
            "\u001b[0;32m<ipython-input-68-3223ab8875cd>\u001b[0m in \u001b[0;36m<cell line: 1>\u001b[0;34m()\u001b[0m\n\u001b[0;32m----> 1\u001b[0;31m \u001b[0mwill_not_work\u001b[0m \u001b[0;34m=\u001b[0m \u001b[0;34m\"abc\"\u001b[0m \u001b[0;34m*\u001b[0m \u001b[0;36m3.0\u001b[0m\u001b[0;34m\u001b[0m\u001b[0;34m\u001b[0m\u001b[0m\n\u001b[0m",
            "\u001b[0;31mTypeError\u001b[0m: can't multiply sequence by non-int of type 'float'"
          ]
        }
      ]
    },
    {
      "cell_type": "markdown",
      "source": [
        "#Exercise: Data type"
      ],
      "metadata": {
        "id": "Yj3XUulJoMbZ"
      }
    },
    {
      "cell_type": "markdown",
      "source": [
        "## Question - 1 : Convert a float to integer and an integer to float"
      ],
      "metadata": {
        "id": "MBJbe4f2oP6-"
      }
    },
    {
      "cell_type": "code",
      "source": [
        "n1 = 5.2\n",
        "print(n1)\n",
        "print(type(n1))\n",
        "\n",
        "n2 = int(n1)\n",
        "print(n2)\n",
        "print(type(n2))\n",
        "\n",
        "n2 = float(n2)\n",
        "print(n2)\n",
        "print(type(n2))"
      ],
      "metadata": {
        "colab": {
          "base_uri": "https://localhost:8080/"
        },
        "id": "rz8Qv5M0oGEq",
        "outputId": "95e61bef-89db-43f1-e8bf-a19ae20f979c"
      },
      "execution_count": null,
      "outputs": [
        {
          "output_type": "stream",
          "name": "stdout",
          "text": [
            "5.2\n",
            "<class 'float'>\n",
            "5\n",
            "<class 'int'>\n",
            "5.0\n",
            "<class 'float'>\n"
          ]
        }
      ]
    },
    {
      "cell_type": "markdown",
      "source": [
        "## Question - 2\n",
        "Your goal is to determine what happens when you multiply a boolean by any of these data types. Specifically,\n",
        "\n",
        "*   What happens when you multiply an integer or float by True? What happens when you multiply them by False? How does the answer change if the numbers are positive or negative?\n",
        "*   What happens when you multiply a string by True? By False?"
      ],
      "metadata": {
        "id": "sTHALz3Cqvbn"
      }
    },
    {
      "cell_type": "code",
      "source": [
        "print(\"3 * True\")\n",
        "n1 = 3 * True\n",
        "print(n1)\n",
        "print(type(n1))\n",
        "\n",
        "print(\"3 * False\")\n",
        "n1 = 3 * False\n",
        "print(n1)\n",
        "print(type(n1))\n",
        "\n",
        "print(\"-3.1 * True\")\n",
        "n2 = -3.1 * True\n",
        "print(n2)\n",
        "print(type(n2))\n",
        "\n",
        "print(\"-3.1 * False\")\n",
        "n2 = -3.1 * False\n",
        "print(n2)\n",
        "print(type(n2))\n",
        "\n",
        "s1 = \"abc\" * True\n",
        "print(s1)\n",
        "print(type(s1))\n",
        "\n",
        "s2 = \"abc\" * False\n",
        "print(s2)\n",
        "print(type(s2))\n",
        "print(len(s2))"
      ],
      "metadata": {
        "colab": {
          "base_uri": "https://localhost:8080/"
        },
        "id": "Iuo6JygRotL3",
        "outputId": "19bffdc2-99af-4f47-a523-e9ab69d6d695"
      },
      "execution_count": null,
      "outputs": [
        {
          "output_type": "stream",
          "name": "stdout",
          "text": [
            "3 * True\n",
            "3\n",
            "<class 'int'>\n",
            "3 * False\n",
            "0\n",
            "<class 'int'>\n",
            "-3.1 * True\n",
            "-3.1\n",
            "<class 'float'>\n",
            "-3.1 * False\n",
            "-0.0\n",
            "<class 'float'>\n",
            "abc\n",
            "<class 'str'>\n",
            "\n",
            "<class 'str'>\n",
            "0\n"
          ]
        }
      ]
    },
    {
      "cell_type": "markdown",
      "source": [
        "# Question 3\n",
        "\n",
        "In this question, you will build off your work from the previous exercise to write a function that estimates the value of a house.\n",
        "\n",
        "Use the next code cell to create a function `get_expected_cost` that takes as input three variables:\n",
        "- `beds` - number of bedrooms (data type float)\n",
        "- `baths` - number of bathrooms (data type float)\n",
        "- `has_basement` - whether or not the house has a basement (data type boolean)\n",
        "\n",
        "It should return the expected cost of a house with those characteristics. Assume that:\n",
        "- the expected cost for a house with 0 bedrooms and 0 bathrooms, and no basement is 80000,\n",
        "- each bedroom adds 30000 to the expected cost,\n",
        "- each bathroom adds 10000 to the expected cost, and\n",
        "- a basement adds 40000 to the expected cost.\n",
        "\n",
        "For instance,\n",
        "- a house with 1 bedroom, 1 bathroom, and no basement has an expected cost of 80000 + 30000 + 10000 = 120000.  This value will be calculated with `get_expected_cost(1, 1, False)`.\n",
        "- a house with 2 bedrooms, 1 bathroom, and a basement has an expected cost of 80000 + 2*30000 + 10000 + 40000 = 190000.  This value will be calculated with `get_expected_cost(2, 1, True)`.\n",
        "\n",
        "Remember you can always get a hint by uncommenting `q3.hint()` in the code cell following the next!"
      ],
      "metadata": {
        "id": "hr32fcJOsjKo"
      }
    },
    {
      "cell_type": "code",
      "source": [
        "# TODO: Complete the function\n",
        "def get_expected_cost(beds, baths, has_basement):\n",
        "    # value =\n",
        "    return value\n"
      ],
      "metadata": {
        "id": "Ebt69j9CrigP"
      },
      "execution_count": null,
      "outputs": []
    },
    {
      "cell_type": "markdown",
      "source": [
        "# Question 4\n",
        "\n",
        "We'll continue our study of boolean arithmetic.  For this question, your task is to provide a description of what happpens when you add booleans.\n",
        "\n",
        "Use the next code cell for your investigation.  Feel free to add or remove any lines of code - use it as your workspace!"
      ],
      "metadata": {
        "id": "JaQjjqdrtI4O"
      }
    },
    {
      "cell_type": "code",
      "source": [
        "print(False + False)\n",
        "print(True + False)\n",
        "print(False + True)\n",
        "print(True + True)\n",
        "print(False + True + True + True)"
      ],
      "metadata": {
        "colab": {
          "base_uri": "https://localhost:8080/"
        },
        "id": "Jxc0-2sHtHbL",
        "outputId": "763baae3-5dc1-4b55-e33b-a097b4e76ac3"
      },
      "execution_count": null,
      "outputs": [
        {
          "output_type": "stream",
          "name": "stdout",
          "text": [
            "0\n",
            "1\n",
            "1\n",
            "2\n",
            "3\n"
          ]
        }
      ]
    },
    {
      "cell_type": "markdown",
      "source": [
        "# Question 5\n",
        "\n",
        "You own an online shop where you sell rings with custom engravings.  You offer both gold plated and solid gold rings.\n",
        "- Gold plated rings have a base cost of \\\\$50, and you charge \\\\$7 per engraved unit.  \n",
        "- Solid gold rings have a base cost of \\\\$100, and you charge \\\\$10 per engraved unit.\n",
        "- Spaces and punctuation are counted as engraved units.\n",
        "\n",
        "Write a function `cost_of_project()` that takes two arguments:\n",
        "- `engraving` - a Python string with the text of the engraving\n",
        "- `solid_gold` - a Boolean that indicates whether the ring is solid gold\n",
        "\n",
        "It should return the cost of the project.  This question should be fairly challenging, and you may need a hint."
      ],
      "metadata": {
        "id": "oIb5sVGMtfY9"
      }
    },
    {
      "cell_type": "code",
      "source": [
        "def cost_of_project(engraving, solid_gold):\n",
        "    # cost =\n",
        "    return cost\n"
      ],
      "metadata": {
        "id": "H_yN8xVStM8-"
      },
      "execution_count": null,
      "outputs": []
    },
    {
      "cell_type": "markdown",
      "source": [
        "Run the next code cell to calculate the cost of engraving `M+P` on a solid gold ring."
      ],
      "metadata": {
        "id": "KQ1GYcv8t4QH"
      }
    },
    {
      "cell_type": "code",
      "source": [
        "project_one = cost_of_project()\n",
        "print(project_one)"
      ],
      "metadata": {
        "id": "B_ZtGGGjtn2R"
      },
      "execution_count": null,
      "outputs": []
    }
  ]
}