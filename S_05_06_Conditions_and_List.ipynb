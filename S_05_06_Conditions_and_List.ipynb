{
  "nbformat": 4,
  "nbformat_minor": 0,
  "metadata": {
    "colab": {
      "provenance": []
    },
    "kernelspec": {
      "name": "python3",
      "display_name": "Python 3"
    },
    "language_info": {
      "name": "python"
    }
  },
  "cells": [
    {
      "cell_type": "markdown",
      "source": [
        "# Relational Operators\n",
        "\n",
        "In programming, **conditions** are statements that are either `True` or `False`. There are many different ways to write conditions in Python, but some of the most common ways of writing conditions just compare two different values. For instance, you can check if 2 is greater than 3."
      ],
      "metadata": {
        "id": "xellsrudPz53"
      }
    },
    {
      "cell_type": "code",
      "execution_count": null,
      "metadata": {
        "colab": {
          "base_uri": "https://localhost:8080/"
        },
        "id": "uWGXsqp8Pb2m",
        "outputId": "16baa327-7d0b-487c-e901-c27beb9147c8"
      },
      "outputs": [
        {
          "output_type": "stream",
          "name": "stdout",
          "text": [
            "False\n"
          ]
        }
      ],
      "source": [
        "print(2 > 3)"
      ]
    },
    {
      "cell_type": "markdown",
      "source": [
        "## Common Relational Operators\n",
        "\n",
        "<table>\n",
        "  <tr>\n",
        "    <td>Symbol</td>\n",
        "    <td>Meaning</td>\n",
        "  </tr>\n",
        "\n",
        "  <tr>\n",
        "    <td><</td>\n",
        "    <td>less than</td>\n",
        "  </tr>\n",
        "  <tr>\n",
        "    <td>></td>\n",
        "    <td>greater than</td>\n",
        "  </tr>\n",
        "  <tr>\n",
        "    <td><=</td>\n",
        "    <td>less than or equal to</td>\n",
        "  </tr>\n",
        "  <tr>\n",
        "    <td>>=</td>\n",
        "    <td>greater than or equal to</td>\n",
        "  </tr>\n",
        "  <tr>\n",
        "    <td>==</td>\n",
        "    <td>equals</td>\n",
        "  </tr>\n",
        "  <tr>\n",
        "    <td>!=</td>\n",
        "    <td>not equal</td>\n",
        "  </tr>\n",
        "</table>"
      ],
      "metadata": {
        "id": "E-VfKsHZQj-m"
      }
    },
    {
      "cell_type": "code",
      "source": [
        "var_one = 1\n",
        "var_two = 2\n",
        "\n",
        "print(var_one < 1)\n",
        "print(var_two >= var_one)"
      ],
      "metadata": {
        "colab": {
          "base_uri": "https://localhost:8080/"
        },
        "id": "vqvB-BtwQbA9",
        "outputId": "8577cbc5-0593-457b-9b07-5c92097597a8"
      },
      "execution_count": null,
      "outputs": [
        {
          "output_type": "stream",
          "name": "stdout",
          "text": [
            "False\n",
            "True\n"
          ]
        }
      ]
    },
    {
      "cell_type": "markdown",
      "source": [
        "**Important Note:** <br />\n",
        "When you check two values are equal, make sure you use the `==` sign, and not the `=` sign.\n",
        "\n",
        "`var_one==1` checks if the value of `var_one` is `1`, but\n",
        "`var_one=1` sets the value of `var_one` to `1`."
      ],
      "metadata": {
        "id": "u50enXCjSvLO"
      }
    },
    {
      "cell_type": "markdown",
      "source": [
        "# Conditional Statements\n",
        "\n",
        "So far, we've seen code run from top to bottom. But this does not always happen in real scenarios. Sometimes, you need to execute a block of code if it satisfies a condition else you need another block of code to run."
      ],
      "metadata": {
        "id": "5g0Yp5-jXzLh"
      }
    },
    {
      "cell_type": "markdown",
      "source": [
        "If we run the below code, the statement will execute. However, this is not what we want. We want only if you got `80 or above`"
      ],
      "metadata": {
        "id": "HQ4gFtqPYwRM"
      }
    },
    {
      "cell_type": "code",
      "source": [
        "print(\"You've got A+\")\n",
        "print(\"You've got A\")"
      ],
      "metadata": {
        "id": "bdfGf-DnSodC",
        "colab": {
          "base_uri": "https://localhost:8080/"
        },
        "outputId": "1d1d34fe-c5fd-4fb0-8fb1-7ec013d877a0"
      },
      "execution_count": null,
      "outputs": [
        {
          "output_type": "stream",
          "name": "stdout",
          "text": [
            "You've got A+\n",
            "You've got A\n"
          ]
        }
      ]
    },
    {
      "cell_type": "code",
      "source": [
        "marks = 80\n",
        "\n",
        "if marks >= 80:\n",
        "    print(\"You've got A+\")"
      ],
      "metadata": {
        "id": "9rQdg-HpY651",
        "colab": {
          "base_uri": "https://localhost:8080/"
        },
        "outputId": "1408e3c4-ca25-4dc2-dac6-0be88dc177d6"
      },
      "execution_count": null,
      "outputs": [
        {
          "output_type": "stream",
          "name": "stdout",
          "text": [
            "You've got A+\n"
          ]
        }
      ]
    },
    {
      "cell_type": "markdown",
      "source": [
        "So we can print a statement if it satisfies a condition. But what if it doesn't satisfy the condition? Can something else execute?"
      ],
      "metadata": {
        "id": "Ad07azuiZWg4"
      }
    },
    {
      "cell_type": "code",
      "source": [
        "marks = 78\n",
        "\n",
        "if marks >= 80:\n",
        "    print(\"You've got A+\")\n",
        "else:\n",
        "    print(\"You've got A\")"
      ],
      "metadata": {
        "colab": {
          "base_uri": "https://localhost:8080/"
        },
        "id": "InkEtkplZSlR",
        "outputId": "de126013-f304-49fd-cd59-d33fb63ef718"
      },
      "execution_count": null,
      "outputs": [
        {
          "output_type": "stream",
          "name": "stdout",
          "text": [
            "You've got A\n"
          ]
        }
      ]
    },
    {
      "cell_type": "markdown",
      "source": [
        "So far, we've seen a block of code will execute if it satisfies a condition and another block of code will execute if it doesn't satisfy. But what if we've multiple conditions?"
      ],
      "metadata": {
        "id": "s1A6AVwQZ3Vx"
      }
    },
    {
      "cell_type": "code",
      "source": [
        "marks = 78\n",
        "\n",
        "if marks >= 80:\n",
        "    print(\"You've got A+\")\n",
        "elif marks >= 75:\n",
        "    print(\"You've got A\")\n",
        "else:\n",
        "    print(\"You've got F\")"
      ],
      "metadata": {
        "colab": {
          "base_uri": "https://localhost:8080/"
        },
        "id": "w3kNa7gYZyQY",
        "outputId": "d5c9b361-428e-44cb-b069-491db4560d34"
      },
      "execution_count": null,
      "outputs": [
        {
          "output_type": "stream",
          "name": "stdout",
          "text": [
            "You've got A\n"
          ]
        }
      ]
    },
    {
      "cell_type": "markdown",
      "source": [
        "## Question-1:\n",
        "\n",
        "We can use as many `elif` as we want. So we can add multiple conditions. Now write a program to print the grade as follows. <br />\n",
        "\n",
        "<table>\n",
        "<tr>\n",
        "  <td>Marks</td>\n",
        "  <td>Grade</td>\n",
        "</tr>\n",
        "\n",
        "<tr>\n",
        "  <td>80 - 100</td>\n",
        "  <td>A+</td>\n",
        "</tr>\n",
        "<tr>\n",
        "  <td>75 - 79</td>\n",
        "  <td>A</td>\n",
        "</tr>\n",
        "<tr>\n",
        "  <td>70 - 74</td>\n",
        "  <td>A-</td>\n",
        "</tr>\n",
        "<tr>\n",
        "  <td>65 - 69</td>\n",
        "  <td>B+</td>\n",
        "</tr>\n",
        "<tr>\n",
        "  <td>60 - 64</td>\n",
        "  <td>B</td>\n",
        "</tr>\n",
        "<tr>\n",
        "  <td>55 - 59</td>\n",
        "  <td>B-</td>\n",
        "</tr>\n",
        "<tr>\n",
        "  <td>50 - 54</td>\n",
        "  <td>C+</td>\n",
        "</tr>\n",
        "<tr>\n",
        "  <td>45 - 49</td>\n",
        "  <td>C</td>\n",
        "</tr>\n",
        "<tr>\n",
        "  <td>40 - 44</td>\n",
        "  <td>D</td>\n",
        "</tr>\n",
        "<tr>\n",
        "  <td><40</td>\n",
        "  <td>F</td>\n",
        "</tr>\n",
        "</table>"
      ],
      "metadata": {
        "id": "bCsfxAUWaW5N"
      }
    },
    {
      "cell_type": "markdown",
      "source": [
        "## Question-2\n",
        "\n",
        "In this exercise, you will write a function to help a jewelry shop to calculate the cost of a project.  The online shop has the following price structure:\n",
        "- Gold plated rings have a base cost of \\$50, and you charge \\$7 per engraved unit.  \n",
        "- Solid gold rings have a base cost of \\$100, and you charge \\$10 per engraved unit.\n",
        "- Spaces and punctuation are counted as engraved units.\n",
        "\n",
        "Your function `cost_of_project()` takes two arguments:\n",
        "- `engraving` - a Python string with the text of the engraving\n",
        "- `solid_gold` - a Boolean that indicates whether the ring is solid gold\n",
        "\n",
        "It should return the cost of the project.  \n",
        "\n",
        "The function has been partially completed for you, and you need to fill in the blanks to complete the function."
      ],
      "metadata": {
        "id": "Z_OaXL9ycSig"
      }
    },
    {
      "cell_type": "code",
      "source": [
        "def cost_of_project(engraving, solid_gold):\n",
        "    if solid_gold == True:\n",
        "        cost =\n",
        "    else:\n",
        "        cost =\n",
        "    return cost"
      ],
      "metadata": {
        "id": "Jf6VhGN6aVAz"
      },
      "execution_count": null,
      "outputs": []
    },
    {
      "cell_type": "code",
      "source": [
        "option1 = cost_of_project(\"Nayeem\", False)\n",
        "option2 = cost_of_project(\"Mariam\", True)\n",
        "\n",
        "print(f\"Option 1: {option1}\")\n",
        "print(f\"Option 2: {option2}\")"
      ],
      "metadata": {
        "colab": {
          "base_uri": "https://localhost:8080/"
        },
        "id": "s9aBmwNEdYtL",
        "outputId": "60d657eb-f5e6-415c-d37d-1ada3fbaa1d0"
      },
      "execution_count": null,
      "outputs": [
        {
          "output_type": "stream",
          "name": "stdout",
          "text": [
            "Option 1: 85\n",
            "Option 2: 160\n"
          ]
        }
      ]
    },
    {
      "cell_type": "markdown",
      "source": [
        "## Question 3\n",
        "\n",
        "You are a programmer at a water agency.  Recently, you have been tasked to write a function `get_water_bill()` that takes as input:\n",
        "- `num_gallons` = the number of gallons of water that a customer used that month.  (This will always be an integer with no decimal part.)\n",
        "\n",
        "It should output the water bill.  \n",
        "\n",
        "The water agency uses this pricing structure:\n",
        "<table style=\"width: 100%;\">\n",
        "<tbody>\n",
        "<tr><th><b>Tier</b></th><th><b>Amount in gallons</b></th><th><b>Price per 1000 gallons</b></th></tr>\n",
        "<tr>\n",
        "<td>Tier 1</td>\n",
        "<td>0 - 8,000</td>\n",
        "<td>$5</td>\n",
        "</tr>\n",
        "<tr>\n",
        "<td>Tier 2</td>\n",
        "<td>8,001 - 22,000</td>\n",
        "<td>\\$6</td>\n",
        "</tr>\n",
        "<tr>\n",
        "<td>Tier 3</td>\n",
        "<td>22,001 - 30,000</td>\n",
        "<td>\\$7</td>\n",
        "</tr>\n",
        "<tr>\n",
        "<td>Tier 4</td>\n",
        "<td>30,001+</td>\n",
        "<td>\\$10</td>\n",
        "</tr>\n",
        "</tbody>\n",
        "</table>\n",
        "\n",
        "For example:\n",
        "- Someone who uses 10,000 gallons of water in a month is placed in Tier 2, and needs to pay a water bill of \\$6 * 10 = \\$60.  In other words, `get_water_bill(10000)` should return `60.0`.\n",
        "- Someone who uses 25,000 gallons of water in a month is placed in Tier 3, and needs to pay a water bill of \\$7 * 25 = \\$175.  In other words, `get_water_bill(25000)` should return `175.0`.\n",
        "\n",
        "**Do not round your answer.**  So, your answer might return fractions of a penny."
      ],
      "metadata": {
        "id": "UPXJpMZCeKWP"
      }
    },
    {
      "cell_type": "code",
      "source": [
        "def get_water_bill(num_gallons):\n",
        "    bill = 1000\n",
        "    return bill"
      ],
      "metadata": {
        "id": "faWxFR9VdbHD"
      },
      "execution_count": null,
      "outputs": []
    },
    {
      "cell_type": "markdown",
      "source": [
        "## Question 4\n",
        "\n",
        "You work for a company that provides data services.  For \\$100/month, your company provides 15 gigabytes (GB) of data.  Then, any additional data is billed at \\$0.10/MB (or \\$100/GB, since 1,000 MB are in 1 GB).\n",
        "\n",
        "Use the next code cell to write a function `get_phone_bill()` that takes as input:\n",
        "- `gb` = number of GB that the customer used in a month\n",
        "\n",
        "It should return the customer's total phone bill.\n",
        "\n",
        "For instance:\n",
        "- A customer who uses 10 GB of data in one month is billed only \\$100, since the usage stayed under 15 GB.  In other words, `get_phone_bill(10)` should return `100`.\n",
        "- A customer who uses 15.1 GB (or 15 GB + 100 MB) of data in one month has gone over by .1 GB, so they must pay \\$100 (cost of plan), plus \\$0.10 * 100 = \\$10, for a total bill of \\$110.  In other words, `get_phone_bill(15.1)` should return `110`.\n",
        "\n",
        "Do not round your answer."
      ],
      "metadata": {
        "id": "icbN77QZfXLX"
      }
    },
    {
      "cell_type": "markdown",
      "source": [
        "# List"
      ],
      "metadata": {
        "id": "iuAgd0_jmdGC"
      }
    },
    {
      "cell_type": "markdown",
      "source": [
        "## Introduction\n",
        "When doing data science, you need a way to organize your data so you can work with it efficiently. Python has many data structures available for holding your data, such as lists, sets, dictionaries, and tuples. In this tutorial, you will learn how to work with Python lists."
      ],
      "metadata": {
        "id": "lc6ZtNbnnPMD"
      }
    },
    {
      "cell_type": "code",
      "source": [
        "students = \"Sabrina, Samiha, Tonoy, Mariam\"\n",
        "\n",
        "print(students)"
      ],
      "metadata": {
        "id": "riuUqT_1e5fc",
        "colab": {
          "base_uri": "https://localhost:8080/"
        },
        "outputId": "e1eb2451-5f25-44ac-ff5a-5778cd96dd8d"
      },
      "execution_count": null,
      "outputs": [
        {
          "output_type": "stream",
          "name": "stdout",
          "text": [
            "Sabrina, Samiha, Tonoy, Mariam\n"
          ]
        }
      ]
    },
    {
      "cell_type": "markdown",
      "source": [
        "But here, all the student's names are printed all at once, which I don't want."
      ],
      "metadata": {
        "id": "7qo1yRV9oCr3"
      }
    },
    {
      "cell_type": "code",
      "source": [
        "students_list = [\"Sabrina\", \"Samiha\", \"Tonoy\", \"Mariam\"]\n",
        "\n",
        "print(students_list)"
      ],
      "metadata": {
        "colab": {
          "base_uri": "https://localhost:8080/"
        },
        "id": "cJAoYx6vn9ER",
        "outputId": "99068856-544a-4533-fdb8-34c364e258d4"
      },
      "execution_count": 2,
      "outputs": [
        {
          "output_type": "stream",
          "name": "stdout",
          "text": [
            "['Sabrina', 'Samiha', 'Tonoy', 'Mariam']\n"
          ]
        }
      ]
    },
    {
      "cell_type": "markdown",
      "source": [
        "This is kind of the same, but now I have more control over them."
      ],
      "metadata": {
        "id": "OtxTNW5-oYVX"
      }
    },
    {
      "cell_type": "code",
      "source": [
        "print(type(students_list))\n",
        "print(len(students_list))"
      ],
      "metadata": {
        "colab": {
          "base_uri": "https://localhost:8080/"
        },
        "id": "EY-mNDECoWEQ",
        "outputId": "1e40664f-8d5c-420f-9cdd-a7a8da454a1d"
      },
      "execution_count": 3,
      "outputs": [
        {
          "output_type": "stream",
          "name": "stdout",
          "text": [
            "<class 'list'>\n",
            "4\n"
          ]
        }
      ]
    },
    {
      "cell_type": "markdown",
      "source": [
        "## Indexing\n",
        "\n",
        "We can refer to any item in the list according to its position in the list (first, second, third, etc). This is called **indexing**.\n",
        "\n",
        "Note that Python uses zero-based indexing, which means that:\n",
        "\n",
        "- to pull the first entry in the list, you use 0,\n",
        "- to pull the second entry in the list, you use 1, and\n",
        "- to pull the final entry in the list, you use one less than the length of the list."
      ],
      "metadata": {
        "id": "UGVpw-pQow5i"
      }
    },
    {
      "cell_type": "code",
      "source": [
        "print(\"First entry:\", students_list[0])\n",
        "print(\"Second entry:\", students_list[1])\n",
        "\n",
        "print(\"Last entry:\", students_list[-1])\n",
        "print(\"Last entry:\", students_list[-2])"
      ],
      "metadata": {
        "colab": {
          "base_uri": "https://localhost:8080/"
        },
        "id": "4PHiU2R5omVV",
        "outputId": "0c8160ed-fa4d-4794-f9be-e96741423d8a"
      },
      "execution_count": 6,
      "outputs": [
        {
          "output_type": "stream",
          "name": "stdout",
          "text": [
            "First entry: Sabrina\n",
            "Second entry: Samiha\n",
            "Last entry: Mariam\n",
            "Last entry: Tonoy\n"
          ]
        }
      ]
    },
    {
      "cell_type": "markdown",
      "source": [
        "## Slicing\n",
        "You can also pull a segment of a list (for instance, the first three entries or the last two entries). This is called slicing. For instance:\n",
        "\n",
        "- to pull the first x entries, you use [:x], and\n",
        "- to pull the last y entries, you use [-y:]."
      ],
      "metadata": {
        "id": "UlBWiFWUp2v1"
      }
    },
    {
      "cell_type": "code",
      "source": [
        "students_list = [\"Sabrina\", \"Samiha\", \"Tonoy\", \"Mariam\"]\n",
        "\n",
        "print(\"First two entries:\", students_list[:2])\n",
        "print(students_list[1:3])\n",
        "print(\"\", students_list[-3:-1])"
      ],
      "metadata": {
        "colab": {
          "base_uri": "https://localhost:8080/"
        },
        "id": "99UzCuzrpGq5",
        "outputId": "b995dab0-1353-4d5d-d56c-e7db9e133743"
      },
      "execution_count": 14,
      "outputs": [
        {
          "output_type": "stream",
          "name": "stdout",
          "text": [
            "First two entries: ['Sabrina', 'Samiha']\n",
            "['Samiha', 'Tonoy']\n",
            " ['Samiha', 'Tonoy']\n"
          ]
        }
      ]
    },
    {
      "cell_type": "markdown",
      "source": [
        "## Removing Item\n",
        "Remove an item from a list with `remove()`, and put the item you would like to remove in parentheses."
      ],
      "metadata": {
        "id": "EOQYKonOqVoQ"
      }
    },
    {
      "cell_type": "code",
      "source": [
        "students_list = [\"Sabrina\", \"Samiha\", \"Tonoy\", \"Mariam\"]\n",
        "\n",
        "students_list.remove(\"Sabrina\")\n",
        "print(students_list)"
      ],
      "metadata": {
        "colab": {
          "base_uri": "https://localhost:8080/"
        },
        "id": "WJtfxakJqFPy",
        "outputId": "b6acd593-6779-44cb-f639-c6302cc91955"
      },
      "execution_count": 17,
      "outputs": [
        {
          "output_type": "stream",
          "name": "stdout",
          "text": [
            "['Samiha', 'Tonoy', 'Mariam']\n"
          ]
        }
      ]
    },
    {
      "cell_type": "markdown",
      "source": [
        "## Adding Item\n",
        "Add an item to a list with `append()`, and put the item you would like to add in parentheses."
      ],
      "metadata": {
        "id": "ghadpgrrqq7K"
      }
    },
    {
      "cell_type": "code",
      "source": [
        "students_list.append(\"Sabrina\")\n",
        "print(students_list)"
      ],
      "metadata": {
        "colab": {
          "base_uri": "https://localhost:8080/"
        },
        "id": "5OB5wKtkqlhe",
        "outputId": "a639a974-7b92-42a1-d441-fcf597802727"
      },
      "execution_count": 18,
      "outputs": [
        {
          "output_type": "stream",
          "name": "stdout",
          "text": [
            "['Samiha', 'Tonoy', 'Mariam', 'Sabrina']\n"
          ]
        }
      ]
    },
    {
      "cell_type": "markdown",
      "source": [
        "## Lists are not only for Strings\n",
        "So far, we have only worked with lists where each item in the list is a string. But lists can have items with any data type, including booleans, integers, and floats.\n",
        "\n",
        "As an example, consider hardcover book sales in the first week of April 2000 in a retail store."
      ],
      "metadata": {
        "id": "v5m-Bik0rA23"
      }
    },
    {
      "cell_type": "code",
      "source": [
        "hardcover_sales = [139, 128, 172, 139, 191, 168, 170]\n",
        "\n",
        "print(\"Length of the list:\", len(hardcover_sales))\n",
        "print(\"Entry at index 2:\", hardcover_sales[2])"
      ],
      "metadata": {
        "colab": {
          "base_uri": "https://localhost:8080/"
        },
        "id": "j10FcdF9q0oF",
        "outputId": "c90231ad-195b-48cd-b568-9bf2a26f8f75"
      },
      "execution_count": 19,
      "outputs": [
        {
          "output_type": "stream",
          "name": "stdout",
          "text": [
            "Length of the list: 7\n",
            "Entry at index 2: 172\n"
          ]
        }
      ]
    },
    {
      "cell_type": "markdown",
      "source": [
        "You can also get the minimum with `min()` and the maximum with `max()`."
      ],
      "metadata": {
        "id": "j6WM_4L4rTDa"
      }
    },
    {
      "cell_type": "code",
      "source": [
        "print(\"Minimum:\", min(hardcover_sales))\n",
        "print(\"Maximum:\", max(hardcover_sales))"
      ],
      "metadata": {
        "colab": {
          "base_uri": "https://localhost:8080/"
        },
        "id": "UKQ9C4GwrNFW",
        "outputId": "7122a4ff-e513-40e8-8265-353382c395d3"
      },
      "execution_count": null,
      "outputs": [
        {
          "output_type": "stream",
          "name": "stdout",
          "text": [
            "Minimum: 128\n",
            "Maximum: 191\n"
          ]
        }
      ]
    },
    {
      "cell_type": "markdown",
      "source": [
        "To add every item in the list, use `sum()`."
      ],
      "metadata": {
        "id": "qB868nZhreD0"
      }
    },
    {
      "cell_type": "code",
      "source": [
        "print(\"Total books sold in one week:\", sum(hardcover_sales))"
      ],
      "metadata": {
        "colab": {
          "base_uri": "https://localhost:8080/"
        },
        "id": "bro-fWZJrZDy",
        "outputId": "724e86fb-6061-4788-9b63-4c1fda3a1e41"
      },
      "execution_count": null,
      "outputs": [
        {
          "output_type": "stream",
          "name": "stdout",
          "text": [
            "Total books sold in one week: 1107\n"
          ]
        }
      ]
    },
    {
      "cell_type": "markdown",
      "source": [
        "We can find the average number of books sold by the following code:"
      ],
      "metadata": {
        "id": "t541-OZurz-g"
      }
    },
    {
      "cell_type": "code",
      "source": [
        "avg_books_sold = sum(hardcover_sales) / len(hardcover_sales)\n",
        "print(\"Average books sold in one week:\", avg_books_sold)"
      ],
      "metadata": {
        "colab": {
          "base_uri": "https://localhost:8080/"
        },
        "id": "ncXBrDGSriyM",
        "outputId": "84615fc6-8283-4a18-9aab-52164e41f314"
      },
      "execution_count": null,
      "outputs": [
        {
          "output_type": "stream",
          "name": "stdout",
          "text": [
            "Average books sold in one week: 158.14285714285714\n"
          ]
        }
      ]
    },
    {
      "cell_type": "markdown",
      "source": [
        "# Exercise: List"
      ],
      "metadata": {
        "id": "ghDebaZLsTPN"
      }
    },
    {
      "cell_type": "markdown",
      "source": [
        "## Question-1:\n",
        "You own a restaurant with five food dishes, organized in the Python list menu below. One day, you decide to:\n",
        "\n",
        "remove bean soup `bean soup` from the menu, and\n",
        "add roasted beet salad `roasted beet salad` to the menu.\n",
        "Implement this change to the list below. While completing this task,\n",
        "\n",
        "do not change the line that creates the menu list.\n",
        "your answer should use `.remove()` and `.append()`."
      ],
      "metadata": {
        "id": "kK3w7Np-sWGu"
      }
    },
    {
      "cell_type": "code",
      "source": [
        "menu = ['stewed meat with onions', 'bean soup', 'risotto with trout and shrimp',\n",
        "       'fish soup with cream and onion', 'gyro']\n",
        "\n",
        "# TODO: remove 'bean soup', and add 'roasted beet salad' to the end of the menu\n",
        "\n",
        "print(menu)"
      ],
      "metadata": {
        "colab": {
          "base_uri": "https://localhost:8080/"
        },
        "id": "A8TwogIer5o6",
        "outputId": "c0bb4d84-21f9-472f-f5db-8fffe19b3da3"
      },
      "execution_count": null,
      "outputs": [
        {
          "output_type": "stream",
          "name": "stdout",
          "text": [
            "['stewed meat with onions', 'bean soup', 'risotto with trout and shrimp', 'fish soup with cream and onion', 'gyro']\n"
          ]
        }
      ]
    },
    {
      "cell_type": "markdown",
      "source": [
        "## Question 2\n",
        "\n",
        "The list `num_customers` contains the number of customers who came into your restaurant every day over the last month (which lasted thirty days). Fill in values for each of the following:\n",
        "\n",
        "- `avg_first_seven` - average number of customers who visited in the first seven days\n",
        "- `avg_last_seven` - average number of customers who visited in the last seven days\n",
        "- `max_month` - number of customers on the day that got the most customers in the last month\n",
        "- `min_month` - number of customers on the day that got the least customers in the last month"
      ],
      "metadata": {
        "id": "qzpRQJpFs9EZ"
      }
    },
    {
      "cell_type": "code",
      "source": [
        "num_customers = [137, 147, 135, 128, 170, 174, 165, 146, 126, 159,\n",
        "                 141, 148, 132, 147, 168, 153, 170, 161, 148, 152,\n",
        "                 141, 151, 131, 149, 164, 163, 143, 143, 166, 171]\n",
        "\n",
        "# TODO: Fill in values for the variables below\n",
        "# avg_first_seven = ____\n",
        "# avg_last_seven = ____\n",
        "# max_month = ____\n",
        "# min_month = ____\n",
        "\n",
        "# print(avg_first_seven)\n",
        "# print(avg_last_seven)\n",
        "# print(max_month)\n",
        "# print(min_month)"
      ],
      "metadata": {
        "id": "gIc-aNdwsvnx"
      },
      "execution_count": null,
      "outputs": []
    },
    {
      "cell_type": "markdown",
      "source": [
        "### Question 3\n",
        "In the tutorial, we gave an example of a Python string with information that was better as a list."
      ],
      "metadata": {
        "id": "recWifl0tmtS"
      }
    },
    {
      "cell_type": "code",
      "source": [
        "students = \"Sabrina, Samiha, Tonoy, Mariam\"\n",
        "my_list = students.split(\",\")"
      ],
      "metadata": {
        "id": "JEaXbVVxtTle"
      },
      "execution_count": 9,
      "outputs": []
    },
    {
      "cell_type": "code",
      "source": [
        "print(my_list)\n",
        "print(type(my_list))\n",
        "print(len(my_list))"
      ],
      "metadata": {
        "colab": {
          "base_uri": "https://localhost:8080/"
        },
        "id": "cEZxTcdNyc3W",
        "outputId": "20aa72ef-d596-4ed8-bc6d-53c3e034d546"
      },
      "execution_count": 10,
      "outputs": [
        {
          "output_type": "stream",
          "name": "stdout",
          "text": [
            "['Sabrina', ' Samiha', ' Tonoy', ' Mariam']\n",
            "<class 'list'>\n",
            "4\n"
          ]
        }
      ]
    },
    {
      "cell_type": "markdown",
      "source": [
        "Now it is your turn to try this out! Create two Python lists:\n",
        "\n",
        "- `letters` should be a Python list where each entry is an uppercase letter of the English alphabet. For instance, the first two entries should be `\"A\"` and `\"B\"`, and the final two entries should be `\"Y\"` and `\"Z\"`. Use the string `alphabet` to create this list.\n",
        "- `address` should be a Python list where each row in address is a different item in the list. Currently, each row in address is separated by a comma."
      ],
      "metadata": {
        "id": "5WZBr94nuJOt"
      }
    },
    {
      "cell_type": "code",
      "source": [
        "alphabet = \"A.B.C.D.E.F.G.H.I.J.K.L.M.N.O.P.Q.R.S.T.U.V.W.X.Y.Z\"\n",
        "address = \"Mr. H. Potter,The cupboard under the Stairs,4 Privet Drive,Little Whinging,Surrey\"\n",
        "\n",
        "# TODO: Convert strings into Python lists\n",
        "# letters = ____\n",
        "# formatted_address = ____\n",
        "\n",
        "# print(letters)\n",
        "# print(formatted_address)"
      ],
      "metadata": {
        "id": "ar7joBm3t1Kv"
      },
      "execution_count": null,
      "outputs": []
    },
    {
      "cell_type": "markdown",
      "source": [
        "## Question 4\n",
        "Say you're doing analytics for a website. You need to write a function that returns the percentage growth in the total number of users relative to a specified number of years ago.\n",
        "\n",
        "Your function `percentage_growth()` should take two arguments as input:\n",
        "\n",
        "- `num_users` = Python list with the total number of users each year. So `num_users[0]` is the total number of users in the first year, `num_users[1]` is the total number of users in the second year, and so on. The final entry in the list gives the total number of users in the most recently completed year.\n",
        "- `yrs_ago` = number of years to go back in time when calculating the growth percentage\n",
        "\n",
        "For instance, say `num_users = [920344, 1043553, 1204334, 1458996, 1503323, 1593432, 1623463, 1843064, 1930992, 2001078]`.\n",
        "\n",
        "if `yrs_ago = 1`, we want the function to return a value of about `0.036`. This corresponds to a percentage growth of approximately `3.6%`, calculated as `(2001078 - 1930992)/1930992`.\n",
        "if `years_ago = 7`, we would want to return approximately `0.66`. This corresponds to a percentage growth of approximately `66%`, calculated as `(2001078 - 1204334)/1204334`.\n",
        "\n",
        "Your coworker sent you a draft of a function, but it doesn't seem to be doing the correct calculation. Can you figure out what has gone wrong and make the needed changes?"
      ],
      "metadata": {
        "id": "x3ryGsB2U8eh"
      }
    },
    {
      "cell_type": "code",
      "source": [
        "# TODO: Edit the function\n",
        "def percentage_growth(num_users, yrs_ago):\n",
        "     growth = # Code your logic\n",
        "    return growth\n",
        "\n"
      ],
      "metadata": {
        "colab": {
          "base_uri": "https://localhost:8080/"
        },
        "id": "gMP8YlpPuu-F",
        "outputId": "5f2dac77-3e22-4164-f466-508efbe252a1"
      },
      "execution_count": null,
      "outputs": [
        {
          "output_type": "stream",
          "name": "stdout",
          "text": [
            "0.0\n",
            "0.2807272117129434\n"
          ]
        }
      ]
    },
    {
      "cell_type": "code",
      "source": [
        "# Do not change: Variable for calculating some test examples\n",
        "num_users_test = [920344, 1043553, 1204334, 1458996, 1503323, 1593432,\n",
        "                  1623463, 1843064, 1930992, 2001078]\n",
        "\n",
        "# Do not change: Should return .036\n",
        "print(percentage_growth(num_users_test, 1))\n",
        "\n",
        "# Do not change: Should return 0.66\n",
        "print(percentage_growth(num_users_test, 7))"
      ],
      "metadata": {
        "id": "LgSpBr6EV2p0"
      },
      "execution_count": null,
      "outputs": []
    }
  ]
}